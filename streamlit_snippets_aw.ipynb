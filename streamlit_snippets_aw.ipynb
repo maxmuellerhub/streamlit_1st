{
 "cells": [
  {
   "cell_type": "markdown",
   "metadata": {},
   "source": [
    "## Browse and select files on server"
   ]
  },
  {
   "cell_type": "code",
   "execution_count": null,
   "metadata": {
    "vscode": {
     "languageId": "plaintext"
    }
   },
   "outputs": [],
   "source": [
    "import streamlit as st\n",
    "import os\n",
    "\n",
    "def file_selector(folder_path='.'):\n",
    "    filenames = os.listdir(folder_path)\n",
    "    selected_filename = st.selectbox('Select a file', filenames)\n",
    "    return os.path.join(folder_path, selected_filename)\n",
    "\n",
    "filename = file_selector()\n",
    "st.write('You selected `%s`' % filename)"
   ]
  },
  {
   "cell_type": "markdown",
   "metadata": {},
   "source": []
  }
 ],
 "metadata": {
  "language_info": {
   "name": "python"
  }
 },
 "nbformat": 4,
 "nbformat_minor": 2
}
